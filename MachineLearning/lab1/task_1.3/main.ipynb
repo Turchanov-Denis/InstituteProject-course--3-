{
 "cells": [
  {
   "cell_type": "code",
   "execution_count": 12,
   "metadata": {
    "_cell_guid": "b1076dfc-b9ad-4769-8c92-a6c4dae69d19",
    "_uuid": "8f2839f25d086af736a60e9eeb907d3b93b6e0e5",
    "execution": {
     "iopub.execute_input": "2025-04-21T06:14:21.658113Z",
     "iopub.status.busy": "2025-04-21T06:14:21.657800Z",
     "iopub.status.idle": "2025-04-21T06:14:22.853909Z",
     "shell.execute_reply": "2025-04-21T06:14:22.852683Z",
     "shell.execute_reply.started": "2025-04-21T06:14:21.658081Z"
    },
    "trusted": true
   },
   "outputs": [],
   "source": [
    "import pandas as pd\n",
    "from sklearn.metrics import mean_absolute_error, r2_score, mean_absolute_percentage_error"
   ]
  },
  {
   "cell_type": "markdown",
   "metadata": {},
   "source": [
    "Исследуем качество модели линейной регрессии, построенной на признаке 'Hours' датасета 'student_scores'"
   ]
  },
  {
   "cell_type": "code",
   "execution_count": 13,
   "metadata": {
    "execution": {
     "iopub.execute_input": "2025-04-21T06:14:24.051518Z",
     "iopub.status.busy": "2025-04-21T06:14:24.051087Z",
     "iopub.status.idle": "2025-04-21T06:14:24.072360Z",
     "shell.execute_reply": "2025-04-21T06:14:24.071272Z",
     "shell.execute_reply.started": "2025-04-21T06:14:24.051493Z"
    },
    "trusted": true
   },
   "outputs": [],
   "source": [
    "dataset1 = pd.read_csv('student_scores.csv')"
   ]
  },
  {
   "cell_type": "code",
   "execution_count": 14,
   "metadata": {
    "execution": {
     "iopub.execute_input": "2025-04-21T06:14:25.036346Z",
     "iopub.status.busy": "2025-04-21T06:14:25.035972Z",
     "iopub.status.idle": "2025-04-21T06:14:25.044473Z",
     "shell.execute_reply": "2025-04-21T06:14:25.043422Z",
     "shell.execute_reply.started": "2025-04-21T06:14:25.036314Z"
    },
    "trusted": true
   },
   "outputs": [],
   "source": [
    "X1 = dataset1.iloc[:, :-1].values \n",
    "y1 = dataset1.iloc[:, 1].values"
   ]
  },
  {
   "cell_type": "code",
   "execution_count": 15,
   "metadata": {
    "execution": {
     "iopub.execute_input": "2025-04-21T06:14:25.723340Z",
     "iopub.status.busy": "2025-04-21T06:14:25.722523Z",
     "iopub.status.idle": "2025-04-21T06:14:25.746868Z",
     "shell.execute_reply": "2025-04-21T06:14:25.745909Z",
     "shell.execute_reply.started": "2025-04-21T06:14:25.723309Z"
    },
    "trusted": true
   },
   "outputs": [],
   "source": [
    "from sklearn.model_selection import train_test_split \n",
    "X1_train, X1_test, y1_train, y1_test = train_test_split(X1, y1, test_size=0.2, random_state=0)"
   ]
  },
  {
   "cell_type": "code",
   "execution_count": 16,
   "metadata": {
    "execution": {
     "iopub.execute_input": "2025-04-21T06:14:26.308867Z",
     "iopub.status.busy": "2025-04-21T06:14:26.308271Z",
     "iopub.status.idle": "2025-04-21T06:14:26.458247Z",
     "shell.execute_reply": "2025-04-21T06:14:26.457255Z",
     "shell.execute_reply.started": "2025-04-21T06:14:26.308838Z"
    },
    "trusted": true
   },
   "outputs": [],
   "source": [
    "from sklearn.linear_model import LinearRegression \n",
    "regressor = LinearRegression() \n",
    "regressor.fit(X1_train, y1_train)\n",
    "y1_pred = regressor.predict(X1_test)"
   ]
  },
  {
   "cell_type": "code",
   "execution_count": 17,
   "metadata": {
    "execution": {
     "iopub.execute_input": "2025-04-21T06:14:27.080940Z",
     "iopub.status.busy": "2025-04-21T06:14:27.079974Z",
     "iopub.status.idle": "2025-04-21T06:14:27.088228Z",
     "shell.execute_reply": "2025-04-21T06:14:27.087094Z",
     "shell.execute_reply.started": "2025-04-21T06:14:27.080904Z"
    },
    "trusted": true
   },
   "outputs": [
    {
     "name": "stdout",
     "output_type": "stream",
     "text": [
      "MAE: 4.183859899002975\n",
      "R2: 0.9454906892105355\n",
      "MAPE: 0.12568891617045658\n"
     ]
    }
   ],
   "source": [
    "print(\"MAE:\", mean_absolute_error(y1_test, y1_pred))\n",
    "print(\"R2:\", r2_score(y1_test, y1_pred))\n",
    "print(\"MAPE:\", mean_absolute_percentage_error(y1_test, y1_pred))"
   ]
  },
  {
   "cell_type": "markdown",
   "metadata": {},
   "source": [
    "Т.к. признак 'Hours' хорошо коррелирует с таргетом, то качество модели получилось неплохим"
   ]
  },
  {
   "cell_type": "code",
   "execution_count": 18,
   "metadata": {
    "execution": {
     "iopub.execute_input": "2025-04-21T06:14:30.363019Z",
     "iopub.status.busy": "2025-04-21T06:14:30.362685Z",
     "iopub.status.idle": "2025-04-21T06:14:30.516207Z",
     "shell.execute_reply": "2025-04-21T06:14:30.515125Z",
     "shell.execute_reply.started": "2025-04-21T06:14:30.362994Z"
    },
    "trusted": true
   },
   "outputs": [],
   "source": [
    "from sklearn.datasets import load_diabetes\n",
    "diabetes = load_diabetes()\n",
    "df = pd.DataFrame(diabetes.data, columns = diabetes.feature_names)\n",
    "df['target'] = diabetes.target\n",
    "\n",
    "X2 = df[\"bmi\"].values.reshape(-1,1)\n",
    "y2 = df[\"target\"].values\n",
    "X2_train, X2_test, y2_train, y2_test = train_test_split(X2, y2, test_size=0.2, random_state=0)\n"
   ]
  },
  {
   "cell_type": "code",
   "execution_count": 19,
   "metadata": {
    "execution": {
     "iopub.execute_input": "2025-04-21T06:14:32.861926Z",
     "iopub.status.busy": "2025-04-21T06:14:32.861574Z",
     "iopub.status.idle": "2025-04-21T06:14:32.869451Z",
     "shell.execute_reply": "2025-04-21T06:14:32.868576Z",
     "shell.execute_reply.started": "2025-04-21T06:14:32.861903Z"
    },
    "trusted": true
   },
   "outputs": [],
   "source": [
    "from sklearn.linear_model import LinearRegression \n",
    "sklearn_lr = LinearRegression() \n",
    "sklearn_lr.fit(X2_train, y2_train)\n",
    "y2_pred = sklearn_lr.predict(X2_test)"
   ]
  },
  {
   "cell_type": "code",
   "execution_count": 20,
   "metadata": {
    "execution": {
     "iopub.execute_input": "2025-04-21T06:14:33.692154Z",
     "iopub.status.busy": "2025-04-21T06:14:33.691788Z",
     "iopub.status.idle": "2025-04-21T06:14:33.700513Z",
     "shell.execute_reply": "2025-04-21T06:14:33.699458Z",
     "shell.execute_reply.started": "2025-04-21T06:14:33.692094Z"
    },
    "trusted": true
   },
   "outputs": [
    {
     "name": "stdout",
     "output_type": "stream",
     "text": [
      "MAE: 52.94370285288119\n",
      "R2: 0.19057346847560142\n",
      "MAPE: 0.4516904624956549\n"
     ]
    }
   ],
   "source": [
    "print(\"MAE:\", mean_absolute_error(y2_test, y2_pred))\n",
    "print(\"R2:\", r2_score(y2_test, y2_pred))\n",
    "print(\"MAPE:\", mean_absolute_percentage_error(y2_test, y2_pred))"
   ]
  },
  {
   "cell_type": "markdown",
   "metadata": {},
   "source": [
    "Здесь качество совсем плохое, т.к. признак 'bmi' линейно зависит от таргета не очень сильно"
   ]
  }
 ],
 "metadata": {
  "kaggle": {
   "accelerator": "none",
   "dataSources": [
    {
     "datasetId": 7206411,
     "sourceId": 11495762,
     "sourceType": "datasetVersion"
    }
   ],
   "dockerImageVersionId": 31012,
   "isGpuEnabled": false,
   "isInternetEnabled": true,
   "language": "python",
   "sourceType": "notebook"
  },
  "kernelspec": {
   "display_name": ".venv",
   "language": "python",
   "name": "python3"
  },
  "language_info": {
   "codemirror_mode": {
    "name": "ipython",
    "version": 3
   },
   "file_extension": ".py",
   "mimetype": "text/x-python",
   "name": "python",
   "nbconvert_exporter": "python",
   "pygments_lexer": "ipython3",
   "version": "3.12.0"
  }
 },
 "nbformat": 4,
 "nbformat_minor": 4
}
